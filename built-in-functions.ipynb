{
 "cells": [
  {
   "cell_type": "code",
   "execution_count": 1,
   "metadata": {},
   "outputs": [
    {
     "name": "stdout",
     "output_type": "stream",
     "text": [
      "The filtered vowels are:\n",
      "///:  a\n",
      "a\n",
      "///:  e\n",
      "e\n",
      "///:  i\n",
      "i\n",
      "///:  o\n",
      "o\n"
     ]
    }
   ],
   "source": [
    "# list of alphabets\n",
    "alphabets = ['a', 'b', 'd', 'e', 'i', 'j', 'o']\n",
    "\n",
    "# function that filters vowels\n",
    "def filterVowels(alphabet):\n",
    "    vowels = ['a', 'e', 'i', 'o', 'u']\n",
    "\n",
    "    if(alphabet in vowels):\n",
    "        print(\"///: \",alphabet)\n",
    "        return True\n",
    "    else:\n",
    "        return False\n",
    "\n",
    "filteredVowels = filter(filterVowels, alphabets)\n",
    "\n",
    "print('The filtered vowels are:')\n",
    "for vowel in filteredVowels:\n",
    "    print(vowel)"
   ]
  },
  {
   "cell_type": "code",
   "execution_count": 3,
   "metadata": {},
   "outputs": [
    {
     "name": "stdout",
     "output_type": "stream",
     "text": [
      "1\n",
      "23\n",
      "6\n",
      "8\n",
      "9\n",
      "11\n",
      "44\n"
     ]
    }
   ],
   "source": [
    "numbers = [1,23,2,3,4,5,6,7,8,9,0,11,22,33,44,55]\n",
    "def filternum(num):\n",
    "    primes = [1,23,6,8,9,11,44,99]\n",
    "    if(num in primes):\n",
    "        return True\n",
    "    else:\n",
    "        return False\n",
    "filterednum = filter(filternum,numbers)\n",
    "for n in filterednum:\n",
    "    print(n)"
   ]
  },
  {
   "cell_type": "code",
   "execution_count": 5,
   "metadata": {},
   "outputs": [
    {
     "name": "stdout",
     "output_type": "stream",
     "text": [
      "20.0\n"
     ]
    }
   ],
   "source": [
    "a=20.0\n",
    "f = float(a)\n",
    "print(f)"
   ]
  },
  {
   "cell_type": "code",
   "execution_count": 6,
   "metadata": {},
   "outputs": [
    {
     "data": {
      "text/plain": [
       "frozenset({1, 6, 8, 9, 11, 23, 44, 99})"
      ]
     },
     "execution_count": 6,
     "metadata": {},
     "output_type": "execute_result"
    }
   ],
   "source": [
    "primes = [1,23,6,8,9,11,44,99]\n",
    "ff = frozenset(primes)\n",
    "ff"
   ]
  },
  {
   "cell_type": "code",
   "execution_count": 8,
   "metadata": {},
   "outputs": [
    {
     "data": {
      "text/plain": [
       "frozenset({'a', 'e', 'i', 'o', 'u'})"
      ]
     },
     "execution_count": 8,
     "metadata": {},
     "output_type": "execute_result"
    }
   ],
   "source": [
    "bb = ('a', 'e', 'i', 'o', 'u')\n",
    "ff = frozenset(bb)\n",
    "ff"
   ]
  },
  {
   "cell_type": "code",
   "execution_count": null,
   "metadata": {},
   "outputs": [],
   "source": []
  },
  {
   "cell_type": "code",
   "execution_count": null,
   "metadata": {},
   "outputs": [],
   "source": []
  }
 ],
 "metadata": {
  "kernelspec": {
   "display_name": "Python 3",
   "language": "python",
   "name": "python3"
  },
  "language_info": {
   "codemirror_mode": {
    "name": "ipython",
    "version": 3
   },
   "file_extension": ".py",
   "mimetype": "text/x-python",
   "name": "python",
   "nbconvert_exporter": "python",
   "pygments_lexer": "ipython3",
   "version": "3.7.3"
  }
 },
 "nbformat": 4,
 "nbformat_minor": 2
}
