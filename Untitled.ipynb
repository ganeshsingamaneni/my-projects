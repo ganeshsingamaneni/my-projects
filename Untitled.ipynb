{
 "cells": [
  {
   "cell_type": "code",
   "execution_count": 2,
   "metadata": {},
   "outputs": [],
   "source": [
    "# -*- coding: utf-8 -*-\n",
    "import scrapy\n",
    "\n",
    "class FlipkartMobilesSpider(scrapy.Spider):\n",
    "    name = 'flipkart_mobiles'\n",
    "    allowed_domains = ['https://www.flipkart.com/']\n",
    "    start_urls = ['https://www.flipkart.com/search?q=mobiles&otracker=search&otracker1=search&marketplace=FLIPKART&as-show=on&as=off',]\n",
    "   \n",
    "    def parse(self, response):\n",
    "        pass\n",
    "\n"
   ]
  },
  {
   "cell_type": "code",
   "execution_count": 5,
   "metadata": {},
   "outputs": [
    {
     "name": "stdout",
     "output_type": "stream",
     "text": [
      "firstsecond 11\n",
      " 1\n",
      "secondfirst 2\n",
      " 12\n",
      "first 3\n",
      "second 13\n",
      "firstsecond 4\n",
      " 14\n",
      "first 5\n",
      "second 15\n",
      "first 6\n",
      "second 16\n",
      "firstsecond  17\n",
      "7\n",
      "second 18\n",
      "first 8\n",
      "second 19\n",
      "first 9\n",
      "second 20\n",
      "first 10\n"
     ]
    }
   ],
   "source": [
    "from threading import Thread\n",
    "import time\n",
    "def fun():\n",
    "    for i in range(1,11):\n",
    "        print(\"first\",i)\n",
    "        time.sleep(1)\n",
    "if __name__ == '__main__':\n",
    "    thr = Thread(target=fun)\n",
    "    thr.start()\n",
    "    for i in range(11,21):\n",
    "        print(\"second\",i)\n",
    "        time.sleep(1)\n",
    "\n",
    "        "
   ]
  },
  {
   "cell_type": "code",
   "execution_count": null,
   "metadata": {},
   "outputs": [],
   "source": []
  }
 ],
 "metadata": {
  "kernelspec": {
   "display_name": "Python 3",
   "language": "python",
   "name": "python3"
  },
  "language_info": {
   "codemirror_mode": {
    "name": "ipython",
    "version": 3
   },
   "file_extension": ".py",
   "mimetype": "text/x-python",
   "name": "python",
   "nbconvert_exporter": "python",
   "pygments_lexer": "ipython3",
   "version": "3.7.3"
  }
 },
 "nbformat": 4,
 "nbformat_minor": 2
}
